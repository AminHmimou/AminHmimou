{
  "nbformat": 4,
  "nbformat_minor": 0,
  "metadata": {
    "colab": {
      "provenance": [],
      "authorship_tag": "ABX9TyOPTJq6uaZ+3rJIsdSy4Okj",
      "include_colab_link": true
    },
    "kernelspec": {
      "name": "python3",
      "display_name": "Python 3"
    },
    "language_info": {
      "name": "python"
    }
  },
  "cells": [
    {
      "cell_type": "markdown",
      "metadata": {
        "id": "view-in-github",
        "colab_type": "text"
      },
      "source": [
        "<a href=\"https://colab.research.google.com/github/AminHmimou/DataMine/blob/main/application.ipynb\" target=\"_parent\"><img src=\"https://colab.research.google.com/assets/colab-badge.svg\" alt=\"Open In Colab\"/></a>"
      ]
    },
    {
      "cell_type": "code",
      "execution_count": null,
      "metadata": {
        "colab": {
          "base_uri": "https://localhost:8080/"
        },
        "id": "imZ7e0Qh9vEJ",
        "outputId": "6ef61d9f-116d-421a-f897-9731dc33774b"
      },
      "outputs": [
        {
          "output_type": "stream",
          "name": "stdout",
          "text": [
            "Requirement already satisfied: pyspark in /usr/local/lib/python3.10/dist-packages (3.5.3)\n",
            "Requirement already satisfied: py4j==0.10.9.7 in /usr/local/lib/python3.10/dist-packages (from pyspark) (0.10.9.7)\n"
          ]
        }
      ],
      "source": [
        "!pip install pyspark"
      ]
    },
    {
      "cell_type": "code",
      "source": [
        "from pyspark import SparkContext"
      ],
      "metadata": {
        "id": "BuolvD_I9x2e"
      },
      "execution_count": null,
      "outputs": []
    },
    {
      "cell_type": "code",
      "source": [
        "sc = SparkContext(appName='myapp')"
      ],
      "metadata": {
        "id": "yWOpe5oB93BC"
      },
      "execution_count": null,
      "outputs": []
    },
    {
      "cell_type": "code",
      "source": [
        "print(\"The version of Spark Context in the PySpark shell is\", sc.version)"
      ],
      "metadata": {
        "colab": {
          "base_uri": "https://localhost:8080/"
        },
        "id": "3YAvXvC497a9",
        "outputId": "0750d6e5-1a4a-4999-b5a8-ae7628bb451c"
      },
      "execution_count": null,
      "outputs": [
        {
          "output_type": "stream",
          "name": "stdout",
          "text": [
            "The version of Spark Context in the PySpark shell is 3.5.3\n"
          ]
        }
      ]
    },
    {
      "cell_type": "code",
      "source": [
        "print(\"the python version is \", sc.pythonVer)"
      ],
      "metadata": {
        "colab": {
          "base_uri": "https://localhost:8080/"
        },
        "id": "MjoLq2Em-Ags",
        "outputId": "a681e82b-e1da-494a-f795-2eaa64cf03e7"
      },
      "execution_count": null,
      "outputs": [
        {
          "output_type": "stream",
          "name": "stdout",
          "text": [
            "the python version is  3.10\n"
          ]
        }
      ]
    },
    {
      "cell_type": "code",
      "source": [
        "num = range(1, 101)"
      ],
      "metadata": {
        "id": "_wXHHDAb-KoZ"
      },
      "execution_count": null,
      "outputs": []
    },
    {
      "cell_type": "code",
      "source": [
        "spark_data = sc.parallelize(num)"
      ],
      "metadata": {
        "id": "FByHJ5Nb-R_5"
      },
      "execution_count": null,
      "outputs": []
    },
    {
      "cell_type": "code",
      "source": [
        "lines= sc.textFile(\"/content/README.md\")"
      ],
      "metadata": {
        "id": "MqivKpfT-aFa"
      },
      "execution_count": null,
      "outputs": []
    },
    {
      "cell_type": "code",
      "source": [
        "my_list = [1, 2, 3, 4, 5, 6, 7, 8, 9, 10]"
      ],
      "metadata": {
        "id": "6OvqU0gW-IiO"
      },
      "execution_count": null,
      "outputs": []
    },
    {
      "cell_type": "code",
      "source": [
        "print('input list is ', my_list)"
      ],
      "metadata": {
        "colab": {
          "base_uri": "https://localhost:8080/"
        },
        "id": "2iobp3Bv_JbI",
        "outputId": "87140967-d70a-49bd-f935-16907578ff11"
      },
      "execution_count": null,
      "outputs": [
        {
          "output_type": "stream",
          "name": "stdout",
          "text": [
            "input list is  [1, 2, 3, 4, 5, 6, 7, 8, 9, 10]\n"
          ]
        }
      ]
    },
    {
      "cell_type": "code",
      "source": [
        "squared_list = list(map(lambda x : x*x , my_list))"
      ],
      "metadata": {
        "id": "pl4PS6nW_NYC"
      },
      "execution_count": null,
      "outputs": []
    },
    {
      "cell_type": "code",
      "source": [
        "print( 'the squared list is', squared_list)"
      ],
      "metadata": {
        "colab": {
          "base_uri": "https://localhost:8080/"
        },
        "id": "0kxGeEuc_zbX",
        "outputId": "f097e325-5936-48d9-e732-b8ec3cc69259"
      },
      "execution_count": null,
      "outputs": [
        {
          "output_type": "stream",
          "name": "stdout",
          "text": [
            "the squared list is [1, 4, 9, 16, 25, 36, 49, 64, 81, 100]\n"
          ]
        }
      ]
    },
    {
      "cell_type": "code",
      "source": [
        "my_list2 = [10, 21, 31, 40, 51, 60, 72, 80, 93, 101]"
      ],
      "metadata": {
        "id": "5CzicqdU_34f"
      },
      "execution_count": null,
      "outputs": []
    },
    {
      "cell_type": "code",
      "source": [
        "filtered_list = list(filter(lambda x : x%10 == 0 , my_list2))"
      ],
      "metadata": {
        "id": "uvq4A2hcAm4c"
      },
      "execution_count": null,
      "outputs": []
    },
    {
      "cell_type": "code",
      "source": [
        "print('numbers divided by 10 are :', filtered_list)"
      ],
      "metadata": {
        "colab": {
          "base_uri": "https://localhost:8080/"
        },
        "id": "hMv7EXM-BMgB",
        "outputId": "6d9c7a89-5428-412f-bdc1-e7b29a146ecd"
      },
      "execution_count": null,
      "outputs": [
        {
          "output_type": "stream",
          "name": "stdout",
          "text": [
            "numbers divided by 10 are : [10, 40, 60, 80]\n"
          ]
        }
      ]
    },
    {
      "cell_type": "code",
      "source": [
        "rdd= sc.parallelize([\"spark\",\"is\",\"a\",\"framework\",\"for\",\"big data processing\"])"
      ],
      "metadata": {
        "id": "TPXdGep3BTgq"
      },
      "execution_count": null,
      "outputs": []
    },
    {
      "cell_type": "code",
      "source": [
        "print(\"the typeof rdd is :\", type(rdd))"
      ],
      "metadata": {
        "colab": {
          "base_uri": "https://localhost:8080/"
        },
        "id": "VM8jkromEk7d",
        "outputId": "cab9fd3f-c5d9-4897-ba45-2fac3af0276d"
      },
      "execution_count": null,
      "outputs": [
        {
          "output_type": "stream",
          "name": "stdout",
          "text": [
            "the typeof rdd is : <class 'pyspark.rdd.RDD'>\n"
          ]
        }
      ]
    },
    {
      "cell_type": "code",
      "source": [
        "filerdd= sc.textFile(\"/content/README.md\")"
      ],
      "metadata": {
        "id": "p6CLWY9VEpOk"
      },
      "execution_count": null,
      "outputs": []
    },
    {
      "cell_type": "code",
      "source": [
        "print(\"the type of filerdd is: \", type(filerdd))"
      ],
      "metadata": {
        "colab": {
          "base_uri": "https://localhost:8080/"
        },
        "id": "6ioa89foE-1_",
        "outputId": "eb51afa0-2650-4e00-8c85-110336e4c593"
      },
      "execution_count": null,
      "outputs": [
        {
          "output_type": "stream",
          "name": "stdout",
          "text": [
            "the type of filerdd is:  <class 'pyspark.rdd.RDD'>\n"
          ]
        }
      ]
    },
    {
      "cell_type": "code",
      "source": [
        "print(\"the number of partitions in filrdd is:\", filerdd.getNumPartitions())"
      ],
      "metadata": {
        "colab": {
          "base_uri": "https://localhost:8080/"
        },
        "id": "ewtZVM6YFGu5",
        "outputId": "5d3f6795-c19e-48a1-d26e-90957c922b42"
      },
      "execution_count": null,
      "outputs": [
        {
          "output_type": "stream",
          "name": "stdout",
          "text": [
            "the number of partitions in filrdd is: 2\n"
          ]
        }
      ]
    },
    {
      "cell_type": "code",
      "source": [
        "filerdd_part = sc.textFile(\"/content/README.md\", minPartitions=5)"
      ],
      "metadata": {
        "id": "8NrUFDzYFQ_u"
      },
      "execution_count": null,
      "outputs": []
    },
    {
      "cell_type": "code",
      "source": [
        "print(filerdd_part.getNumPartitions())"
      ],
      "metadata": {
        "colab": {
          "base_uri": "https://localhost:8080/"
        },
        "id": "KtYJCZX3FdLA",
        "outputId": "04c1add2-1483-4a07-ff6d-c0e791c2a933"
      },
      "execution_count": null,
      "outputs": [
        {
          "output_type": "stream",
          "name": "stdout",
          "text": [
            "5\n"
          ]
        }
      ]
    },
    {
      "cell_type": "code",
      "source": [
        "numbRDD = sc.parallelize([1, 2, 3, 4, 5, 6, 7, 8, 9, 10])"
      ],
      "metadata": {
        "id": "Pz5f7qCmFjIm"
      },
      "execution_count": null,
      "outputs": []
    },
    {
      "cell_type": "code",
      "source": [
        "cuberdd= numbRDD.map(lambda x : x*x*x)"
      ],
      "metadata": {
        "id": "yMPt_kHcFte-"
      },
      "execution_count": null,
      "outputs": []
    },
    {
      "cell_type": "code",
      "source": [
        "numbers_all=cuberdd.collect()"
      ],
      "metadata": {
        "id": "L7xg0LwpF6sA"
      },
      "execution_count": null,
      "outputs": []
    },
    {
      "cell_type": "code",
      "source": [
        "for numb in numbers_all :\n",
        "  print(numb)"
      ],
      "metadata": {
        "colab": {
          "base_uri": "https://localhost:8080/"
        },
        "id": "V1puNmxIF-ep",
        "outputId": "8664ab35-60b5-4321-a8ad-eba13c426792"
      },
      "execution_count": null,
      "outputs": [
        {
          "output_type": "stream",
          "name": "stdout",
          "text": [
            "1\n",
            "8\n",
            "27\n",
            "64\n",
            "125\n",
            "216\n",
            "343\n",
            "512\n",
            "729\n",
            "1000\n"
          ]
        }
      ]
    },
    {
      "cell_type": "code",
      "source": [
        "filerdd_filtered = filerdd.filter(lambda line : 'spark' in line)"
      ],
      "metadata": {
        "id": "xOheEZDUGLL4"
      },
      "execution_count": null,
      "outputs": []
    },
    {
      "cell_type": "code",
      "source": [
        "print(\"the total lines with spark key word is \", filerdd_filtered.count())"
      ],
      "metadata": {
        "colab": {
          "base_uri": "https://localhost:8080/"
        },
        "id": "5amA3r9XGGNz",
        "outputId": "f9e9766d-8ce7-439c-dbf8-729c0069ad3d"
      },
      "execution_count": null,
      "outputs": [
        {
          "output_type": "stream",
          "name": "stdout",
          "text": [
            "the total lines with spark key word is  0\n"
          ]
        }
      ]
    },
    {
      "cell_type": "code",
      "source": [
        "filerdd.collect()"
      ],
      "metadata": {
        "colab": {
          "base_uri": "https://localhost:8080/"
        },
        "id": "q8ql7n1nG2Zj",
        "outputId": "d4b50eef-79d5-4ef0-e02b-edef1e3e389b"
      },
      "execution_count": null,
      "outputs": [
        {
          "output_type": "execute_result",
          "data": {
            "text/plain": [
              "['# 📈  Data Engineer with Python',\n",
              " '🧠 All tasks I carry out on courses and projects related to Data Engineering.',\n",
              " '',\n",
              " \"Most of them are based on the tasks from the ['Career Track: Data Engineer with Python'](https://github.com/monikaglazz/Data_Engineering_with_Python/blob/main/Track_description.pdf) from www.datacamp.com\",\n",
              " '',\n",
              " \"['Career Track: Data Engineer with Python' - certificate](https://github.com/monikaglazz/Data_Engineering_with_Python/blob/main/Data_Engineer_Career_Track_certificate.pdf)\",\n",
              " '',\n",
              " 'If I have completed the course listed below, it means that you can find a confirmation certificate in the corresponding folder.',\n",
              " '',\n",
              " '',\n",
              " '![image](https://user-images.githubusercontent.com/84285130/217212070-2d5affaa-1625-4e45-957f-1ca31098aa4d.png)',\n",
              " '',\n",
              " '## 📒 Currently known technologies',\n",
              " '* Python (i.a.: numpy, matplotlib, pandas) - intermediate',\n",
              " '* SQL: MySQL, PostgreSQL - intermediate, basic',\n",
              " '* AWS (AWS Boto) - basic',\n",
              " '* MangoBD - basic',\n",
              " '* Scala - basic',\n",
              " '* Apache Airflow - basic',\n",
              " '* Apache Spark (PySpark) - basic',\n",
              " '* Shell - basic',\n",
              " '* Bash - basic',\n",
              " '',\n",
              " '## 🧮  More DataCamp stuff',\n",
              " '[Sign Up to DataCamp Here!](https://www.datacamp.com/users/sign_up)',\n",
              " '',\n",
              " '## 📚  List of all courses',\n",
              " \"### 🎮  Courses in 'Career Track: Data Engineer with Python'\",\n",
              " '* [Understanding Data Engineering](https://github.com/monikaglazz/Data_Engineering_with_Python/tree/main/Understanding%20Data%20Engineering)',\n",
              " '* [Introduction to Data Engineering](https://github.com/monikaglazz/Data_Engineering_with_Python/tree/main/Introduction%20to%20Data%20Engineering)',\n",
              " '* [Streamlined Data Ingestion with Pandas](https://github.com/monikaglazz/Data_Engineering_with_Python/tree/main/Streamlined%20Data%20Ingestion%20with%20Pandas)',\n",
              " '* [Writing Efficient Python Code](https://github.com/monikaglazz/Data_Engineering_with_Python/tree/main/Writing%20Efficient%20Python%20Code)',\n",
              " '* [Writing Functions in Python](https://github.com/monikaglazz/Data_Engineering_with_Python/tree/main/Writing%20Functions%20in%20Python)',\n",
              " '* [Introduction to Shell](https://github.com/monikaglazz/Data_Engineering_with_Python/tree/main/Introduction%20to%20Shell)',\n",
              " '* [Data Processing in Shell](https://github.com/monikaglazz/Data_Engineering_with_Python/tree/main/Data%20Processing%20in%20Shell)',\n",
              " '* [Introduction to Bash Scripting](https://github.com/monikaglazz/Data_Engineering_with_Python/tree/main/Introduction%20to%20Bash%20Scripting)',\n",
              " '* [Unit Testing for Data Science in Python](https://github.com/monikaglazz/Data_Engineering_with_Python/tree/main/Unit%20Testing%20for%20Data%20Science%20in%20Python)',\n",
              " '* [Object-Oriented Programming with Python](https://github.com/monikaglazz/Data_Engineering_with_Python/tree/main/Object-Oriented%20Programming%20with%20Python)',\n",
              " '* [Introduction to Airflow in Python](https://github.com/monikaglazz/Data_Engineering_with_Python/tree/main/Introduction%20to%20Airflow%20in%20Python)',\n",
              " '* [Introduction to PySpark](https://github.com/monikaglazz/Data_Engineering_with_Python/tree/main/Introduction%20to%20PySpark)',\n",
              " '* [Introduction to AWS Boto in Python](https://github.com/monikaglazz/Data_Engineering_with_Python/tree/main/Introduction%20to%20AWS%20Boto%20in%20Python)',\n",
              " '* [Introduction to Relational Databases in SQL](https://github.com/monikaglazz/Data_Engineering_with_Python/tree/main/Introduction%20to%20Relational%20Databases%20in%20SQL)',\n",
              " '* [Database Design](https://github.com/monikaglazz/Data_Engineering_with_Python/tree/main/Database%20Design)',\n",
              " '* [Introduction to Scala](https://github.com/monikaglazz/Data_Engineering_with_Python/tree/main/Introduction%20to%20Scala)',\n",
              " '* [Big Data Fundamentals with PySpark](https://github.com/monikaglazz/Data_Engineering_with_Python/tree/main/Big%20Data%20Fundamentals%20with%20PySpark)',\n",
              " '* [Clearing Data with PySpark](https://github.com/monikaglazz/Data_Engineering_with_Python/tree/main/Cleaning%20Data%20with%20PySpark)',\n",
              " '* [Introduction to MangoDB in Python](https://github.com/monikaglazz/Data_Engineering_with_Python/tree/main/Introduction%20to%20MongoDB%20in%20Python)',\n",
              " '',\n",
              " '### ➕  Additional courses DataCamp',\n",
              " '* [Introduction to Python](https://github.com/monikaglazz/Data_Engineering_with_Python/tree/main/Additional%20Courses/Introduction_to_Python)',\n",
              " '* [Intermediate Python](https://github.com/monikaglazz/Data_Engineering_with_Python/tree/main/Additional%20Courses/Intermediate_Python)',\n",
              " '* [Introduction to SQL](https://github.com/monikaglazz/Data_Engineering_with_Python/tree/main/Additional%20Courses/Introduction_to_SQL)',\n",
              " '* [Intermediate SQL](https://github.com/monikaglazz/Data_Engineering_with_Python/tree/main/Additional%20Courses/Intermediate_SQL)',\n",
              " '* [Python Data Science Toolbox (Part 1)](https://github.com/monikaglazz/Data_Engineering_with_Python/tree/main/Additional%20Courses/Python%20Data%20Science%20Toolbox%20(Part%201))',\n",
              " '* [Python Data Science Toolbox (Part 2)](https://github.com/monikaglazz/Data_Engineering_with_Python/tree/main/Additional%20Courses/Python%20Data%20Science%20Toolbox%20(Part%202))',\n",
              " '* [Data Types for Data Science in Python](https://github.com/monikaglazz/Data_Engineering_with_Python/tree/main/Additional%20Courses/Data%20Types%20for%20Data%20Science%20in%20Python)',\n",
              " '* [AWS Cloud Concepts](https://github.com/monikaglazz/Data_Engineering_with_Python/blob/main/Additional%20Courses/AWS%20Cloud%20Concepts_certificate.pdf)',\n",
              " '* [Understanding Cloud Computing](https://github.com/monikaglazz/Data_Engineering_with_Python/blob/main/Additional%20Courses/Understanding%20Cloud%20Computing_certificate.pdf)',\n",
              " '* [NoSQL Concepts](https://github.com/monikaglazz/Data_Engineering_with_Python/blob/main/Additional%20Courses/NoSQL%20Concepts.pdf)',\n",
              " '',\n",
              " '### ➕  Additional courses Udemy',\n",
              " '* [The Ultimate MySQL Bootcamp: Go from SQL Beginner to Expert](https://udemy-certificate.s3.amazonaws.com/image/UC-430c70e1-4640-4f99-9cb8-7cf5cc87fe0a.jpg)',\n",
              " '* [The Modern Python 3 Bootcamp](https://udemy-certificate.s3.amazonaws.com/image/UC-1dd46d62-f25d-41f4-9e1c-15312c6dd5db.jpg)',\n",
              " '* [The Git & Github Bootcamp](https://udemy-certificate.s3.amazonaws.com/image/UC-17fee90e-ff7a-47f4-8a74-9f5007b4c9d5.jpg)',\n",
              " '* [Python 3 od Podstaw do Eksperta](https://udemy-certificate.s3.amazonaws.com/image/UC-976cc083-524c-4d1a-94fa-338878599ab9.jpg)']"
            ]
          },
          "metadata": {},
          "execution_count": 29
        }
      ]
    },
    {
      "cell_type": "code",
      "source": [
        "Rdd = sc.parallelize([(1,2),(9,4),(1,6),(6,8),(9,10),(6,2)])"
      ],
      "metadata": {
        "id": "dfNuHUX1HBX8"
      },
      "execution_count": null,
      "outputs": []
    },
    {
      "cell_type": "code",
      "source": [
        "rdd_reduced = Rdd.reduceByKey(lambda x,y : x+y)"
      ],
      "metadata": {
        "id": "PAYex17XH7c7"
      },
      "execution_count": null,
      "outputs": []
    },
    {
      "cell_type": "code",
      "source": [
        "rdd_reduced.collect()"
      ],
      "metadata": {
        "colab": {
          "base_uri": "https://localhost:8080/"
        },
        "id": "avuK04jkIr5a",
        "outputId": "b1ba524a-b7c7-416d-a738-db352eaa3379"
      },
      "execution_count": null,
      "outputs": [
        {
          "output_type": "execute_result",
          "data": {
            "text/plain": [
              "[(6, 10), (1, 8), (9, 14)]"
            ]
          },
          "metadata": {},
          "execution_count": 32
        }
      ]
    },
    {
      "cell_type": "code",
      "source": [],
      "metadata": {
        "id": "duOAGq8JIuLN"
      },
      "execution_count": null,
      "outputs": []
    },
    {
      "cell_type": "code",
      "source": [
        "for num in rdd_reduced.collect():\n",
        "  print('key {} has {} count value'.format(num[0], num[1]))"
      ],
      "metadata": {
        "colab": {
          "base_uri": "https://localhost:8080/"
        },
        "id": "KzFb4uLFIOlu",
        "outputId": "8563097b-0c18-44ed-98af-8fab4fcaaae5"
      },
      "execution_count": null,
      "outputs": [
        {
          "output_type": "stream",
          "name": "stdout",
          "text": [
            "key 6 has 10 count value\n",
            "key 1 has 8 count value\n",
            "key 9 has 14 count value\n"
          ]
        }
      ]
    },
    {
      "cell_type": "code",
      "source": [
        "rdd_reduced_sort = rdd_reduced.sortByKey(ascending = False)"
      ],
      "metadata": {
        "id": "9PiE6CvyJNUf"
      },
      "execution_count": null,
      "outputs": []
    },
    {
      "cell_type": "code",
      "source": [
        "rdd_reduced_sort.collect()"
      ],
      "metadata": {
        "colab": {
          "base_uri": "https://localhost:8080/"
        },
        "id": "wnRukU6mJXj-",
        "outputId": "bee7aa6f-6e68-46b3-c8fe-0f885a22a3ba"
      },
      "execution_count": null,
      "outputs": [
        {
          "output_type": "execute_result",
          "data": {
            "text/plain": [
              "[(9, 14), (6, 10), (1, 8)]"
            ]
          },
          "metadata": {},
          "execution_count": 35
        }
      ]
    },
    {
      "cell_type": "code",
      "source": [
        "for num in rdd_reduced_sort.collect():\n",
        "  print(\"key {} has {} counts\".format(num[0], num[1]))"
      ],
      "metadata": {
        "colab": {
          "base_uri": "https://localhost:8080/"
        },
        "id": "bWrRv1wbJZ67",
        "outputId": "01d7cc42-3a02-421f-e786-7d338383fbac"
      },
      "execution_count": null,
      "outputs": [
        {
          "output_type": "stream",
          "name": "stdout",
          "text": [
            "key 9 has 14 counts\n",
            "key 6 has 10 counts\n",
            "key 1 has 8 counts\n"
          ]
        }
      ]
    },
    {
      "cell_type": "code",
      "source": [
        "total=rdd.countByKey()"
      ],
      "metadata": {
        "id": "jlU55IEcJoXL"
      },
      "execution_count": null,
      "outputs": []
    },
    {
      "cell_type": "code",
      "source": [
        "print(\"the type of total is \", type(total))"
      ],
      "metadata": {
        "colab": {
          "base_uri": "https://localhost:8080/"
        },
        "id": "8npepVm68N4x",
        "outputId": "f919ab79-2d7f-4fce-9a50-fb41c4ff9788"
      },
      "execution_count": null,
      "outputs": [
        {
          "output_type": "stream",
          "name": "stdout",
          "text": [
            "the type of total is  <class 'collections.defaultdict'>\n"
          ]
        }
      ]
    },
    {
      "cell_type": "code",
      "source": [
        "total.items()"
      ],
      "metadata": {
        "colab": {
          "base_uri": "https://localhost:8080/"
        },
        "id": "pfWa420G8wja",
        "outputId": "b90b0ffd-cf7a-4e65-cf9b-c5204fbe548c"
      },
      "execution_count": null,
      "outputs": [
        {
          "output_type": "execute_result",
          "data": {
            "text/plain": [
              "dict_items([('s', 1), ('i', 1), ('a', 1), ('f', 2), ('b', 1)])"
            ]
          },
          "metadata": {},
          "execution_count": 41
        }
      ]
    },
    {
      "cell_type": "code",
      "source": [],
      "metadata": {
        "id": "cPYg8Tet8yME"
      },
      "execution_count": null,
      "outputs": []
    },
    {
      "cell_type": "code",
      "source": [
        "for k,v in total.items() :\n",
        "  print('the key ', k , 'has' ,v ,'count')"
      ],
      "metadata": {
        "colab": {
          "base_uri": "https://localhost:8080/"
        },
        "id": "ahcVCfBO8gID",
        "outputId": "cc27e3fd-9458-42bb-afe5-c58c464e1181"
      },
      "execution_count": null,
      "outputs": [
        {
          "output_type": "stream",
          "name": "stdout",
          "text": [
            "the key  s has 1 count\n",
            "the key  i has 1 count\n",
            "the key  a has 1 count\n",
            "the key  f has 2 count\n",
            "the key  b has 1 count\n"
          ]
        }
      ]
    },
    {
      "cell_type": "code",
      "source": [
        "baseRdd = sc.textFile(\"/content/Complete_Shakespeare.txt\")"
      ],
      "metadata": {
        "id": "G2KPqmKX89SM"
      },
      "execution_count": null,
      "outputs": []
    },
    {
      "cell_type": "code",
      "source": [
        "splitRDD = baseRdd.flatMap(lambda x: x.split())"
      ],
      "metadata": {
        "id": "-1L5jDb69bTQ"
      },
      "execution_count": null,
      "outputs": []
    },
    {
      "cell_type": "code",
      "source": [
        "print(\"the total number of words in splitRDD is\", splitRDD.count())"
      ],
      "metadata": {
        "colab": {
          "base_uri": "https://localhost:8080/"
        },
        "id": "L4AdmRJ6-Cvg",
        "outputId": "8c0be341-06f7-49c2-b322-b8b4941fb05e"
      },
      "execution_count": null,
      "outputs": [
        {
          "output_type": "stream",
          "name": "stdout",
          "text": [
            "the total number of words in splitRDD is 128576\n"
          ]
        }
      ]
    },
    {
      "cell_type": "code",
      "source": [
        "stop_words = ['i', 'me', 'my', 'myself', 'we', 'our', 'ours', 'ourselves',\n",
        "              'you', 'your', 'yours', 'yourself', 'yourselves', 'he', 'him',\n",
        "              'his', 'himself', 'she', 'her', 'hers', 'herself', 'it', 'its',\n",
        "              'itself', 'they', 'them', 'their', 'theirs', 'themselves',\n",
        "              'what', 'which', 'who', 'whom', 'this', 'that', 'these', 'those',\n",
        "              'am', 'is', 'are', 'was', 'were', 'be', 'been', 'being', 'have',\n",
        "              'has', 'had', 'having', 'do', 'does', 'did', 'doing', 'a', 'an',\n",
        "              'the', 'and', 'but', 'if', 'or', 'because', 'as',\n",
        "              'until', 'while', 'of', 'at', 'by', 'for', 'with', 'about',\n",
        "              'against', 'between', 'into', 'through', 'during', 'before',\n",
        "              'after', 'above', 'below', 'to', 'from', 'up', 'down', 'in',\n",
        "              'out', 'on', 'off', 'over', 'under', 'again', 'further', 'then',\n",
        "              'once', 'here', 'there', 'when', 'where', 'why', 'how', 'all',\n",
        "              'any', 'both', 'each', 'few', 'more', 'most', 'other', 'some',\n",
        "              'such', 'no', 'nor', 'not', 'only', 'own', 'same', 'so', 'than',\n",
        "              'too', 'very', 'can', 'will', 'just', 'don', 'should', 'now']\n"
      ],
      "metadata": {
        "id": "RAgsO4ui-9pZ"
      },
      "execution_count": null,
      "outputs": []
    },
    {
      "cell_type": "code",
      "source": [
        "splitRDD_no_stop = splitRDD.filter(lambda x: x.lower() not in stop_words)"
      ],
      "metadata": {
        "id": "W5Wv9fs3_Or0"
      },
      "execution_count": null,
      "outputs": []
    },
    {
      "cell_type": "code",
      "source": [
        "print(\"the total words in splitRDD_no_stop is :\", splitRDD_no_stop.count())"
      ],
      "metadata": {
        "colab": {
          "base_uri": "https://localhost:8080/"
        },
        "id": "H5UBohkz_b8v",
        "outputId": "ade04a56-9a90-4070-f57b-b1d74f73ec1c"
      },
      "execution_count": null,
      "outputs": [
        {
          "output_type": "stream",
          "name": "stdout",
          "text": [
            "the total words in splitRDD_no_stop is : 73305\n"
          ]
        }
      ]
    },
    {
      "cell_type": "code",
      "source": [
        "splitRDD_no_stop_words = splitRDD_no_stop.map(lambda w : (w,1))"
      ],
      "metadata": {
        "id": "6-e6DptS_kxm"
      },
      "execution_count": null,
      "outputs": []
    },
    {
      "cell_type": "code",
      "source": [
        "resultRDD= splitRDD_no_stop_words.reduceByKey(lambda x,y : x+y)"
      ],
      "metadata": {
        "id": "CpFxECOc__-s"
      },
      "execution_count": null,
      "outputs": []
    },
    {
      "cell_type": "code",
      "source": [
        "for word in resultRDD.take(10):\n",
        "  print(word)\n"
      ],
      "metadata": {
        "colab": {
          "base_uri": "https://localhost:8080/"
        },
        "id": "P4aXoRncAjiK",
        "outputId": "80fbfc33-e3c9-465a-9967-26dd21cbad14"
      },
      "execution_count": null,
      "outputs": [
        {
          "output_type": "stream",
          "name": "stdout",
          "text": [
            "('Project', 9)\n",
            "('EBook', 1)\n",
            "('Shakespeare', 12)\n",
            "('use', 38)\n",
            "('anyone', 1)\n",
            "('anywhere', 1)\n",
            "('restrictions', 1)\n",
            "('whatsoever.', 1)\n",
            "('may', 162)\n",
            "('it,', 74)\n"
          ]
        }
      ]
    },
    {
      "cell_type": "code",
      "source": [
        "resultRDD_swap = resultRDD.map(lambda x: (x[0],x[1]))"
      ],
      "metadata": {
        "id": "rAkrX84UArwa"
      },
      "execution_count": null,
      "outputs": []
    },
    {
      "cell_type": "code",
      "source": [
        "resultRDD_swap_sorted = resultRDD_swap.sortByKey(ascending = False)"
      ],
      "metadata": {
        "id": "NQ1yrmBsCdiN"
      },
      "execution_count": null,
      "outputs": []
    },
    {
      "cell_type": "code",
      "source": [
        "for word in resultRDD_swap_sorted.take(20):\n",
        "  print(\"{},{}\".format(word[0],word[1]))"
      ],
      "metadata": {
        "colab": {
          "base_uri": "https://localhost:8080/"
        },
        "id": "4ouZCyq7CpQK",
        "outputId": "4f1f6ba8-a10d-48f8-fbb3-49b71bf9700b"
      },
      "execution_count": null,
      "outputs": [
        {
          "output_type": "stream",
          "name": "stdout",
          "text": [
            "zealous,2\n",
            "youthful,6\n",
            "youth?,1\n",
            "youth;,2\n",
            "youth.,9\n",
            "youth-,1\n",
            "youth,,15\n",
            "youth's,1\n",
            "youth!,1\n",
            "youth,32\n",
            "yourselves?,2\n",
            "yourselves.,1\n",
            "yourselves,,3\n",
            "yourself?,2\n",
            "yourself;,1\n",
            "yourself:,1\n",
            "yourself.,5\n",
            "yourself,,9\n",
            "yourself!,1\n",
            "yours?,2\n"
          ]
        }
      ]
    },
    {
      "cell_type": "code",
      "source": [
        "sample_list = [('Mona', 20), ('Jennifer', 34),\n",
        "               ('John', 20), ('Jim', 26)]"
      ],
      "metadata": {
        "id": "qj64TpCGDH3M"
      },
      "execution_count": null,
      "outputs": []
    },
    {
      "cell_type": "code",
      "source": [
        "rdd1= sc.parallelize(sample_list)"
      ],
      "metadata": {
        "id": "wEVrNfdHFxck"
      },
      "execution_count": null,
      "outputs": []
    },
    {
      "cell_type": "code",
      "source": [
        "from pyspark.sql import *"
      ],
      "metadata": {
        "id": "M081sBwMGjZa"
      },
      "execution_count": null,
      "outputs": []
    },
    {
      "cell_type": "code",
      "source": [
        "spark= SparkSession.builder.getOrCreate()"
      ],
      "metadata": {
        "id": "MHY57P55G2NB"
      },
      "execution_count": null,
      "outputs": []
    },
    {
      "cell_type": "code",
      "source": [],
      "metadata": {
        "id": "7iIu56WWG8MQ"
      },
      "execution_count": null,
      "outputs": []
    },
    {
      "cell_type": "code",
      "source": [
        "names_df= spark.createDataFrame(rdd1, schema=['Name','Age'])"
      ],
      "metadata": {
        "id": "63KuOlJbGaEf"
      },
      "execution_count": null,
      "outputs": []
    },
    {
      "cell_type": "code",
      "source": [
        "people_df= spark.read.csv(\"/content/people.csv\", header = True, inferSchema=True)"
      ],
      "metadata": {
        "id": "P4MRLsDeHPqE"
      },
      "execution_count": null,
      "outputs": []
    },
    {
      "cell_type": "code",
      "source": [
        "names_df.show(10)\n",
        "people_df.show(10)"
      ],
      "metadata": {
        "colab": {
          "base_uri": "https://localhost:8080/"
        },
        "id": "bnsIprptH2ck",
        "outputId": "9c1b5937-112a-4218-9de8-e5198a1b9408"
      },
      "execution_count": null,
      "outputs": [
        {
          "output_type": "stream",
          "name": "stdout",
          "text": [
            "+--------+---+\n",
            "|    Name|Age|\n",
            "+--------+---+\n",
            "|    Mona| 20|\n",
            "|Jennifer| 34|\n",
            "|    John| 20|\n",
            "|     Jim| 26|\n",
            "+--------+---+\n",
            "\n",
            "+---+---------+----------------+------+-------------------+\n",
            "|_c0|person_id|            name|   sex|      date of birth|\n",
            "+---+---------+----------------+------+-------------------+\n",
            "|  0|      100|  Penelope Lewis|female|1990-08-31 00:00:00|\n",
            "|  1|      101|   David Anthony|  male|1971-10-14 00:00:00|\n",
            "|  2|      102|       Ida Shipp|female|1962-05-24 00:00:00|\n",
            "|  3|      103|    Joanna Moore|female|2017-03-10 00:00:00|\n",
            "|  4|      104|  Lisandra Ortiz|female|2020-08-05 00:00:00|\n",
            "|  5|      105|   David Simmons|  male|1999-12-30 00:00:00|\n",
            "|  6|      106|   Edward Hudson|  male|1983-05-09 00:00:00|\n",
            "|  7|      107|    Albert Jones|  male|1990-09-13 00:00:00|\n",
            "|  8|      108|Leonard Cavender|  male|1958-08-08 00:00:00|\n",
            "|  9|      109|  Everett Vadala|  male|2005-05-24 00:00:00|\n",
            "+---+---------+----------------+------+-------------------+\n",
            "only showing top 10 rows\n",
            "\n"
          ]
        }
      ]
    },
    {
      "cell_type": "code",
      "source": [
        "print('there are {} rows in peopel dataframe'.format(people_df.count()))"
      ],
      "metadata": {
        "colab": {
          "base_uri": "https://localhost:8080/"
        },
        "id": "6hLBreo5H8UE",
        "outputId": "c0383a91-2a2f-4080-b760-fefa3e490880"
      },
      "execution_count": null,
      "outputs": [
        {
          "output_type": "stream",
          "name": "stdout",
          "text": [
            "there are 100000 rows in peopel dataframe\n"
          ]
        }
      ]
    },
    {
      "cell_type": "code",
      "source": [
        "print('there are {} columns in people dataframe and their names are {}: '.format(len(people_df.columns), people_df.columns))"
      ],
      "metadata": {
        "colab": {
          "base_uri": "https://localhost:8080/"
        },
        "id": "nBQAG_6WIRVb",
        "outputId": "ec462940-81b7-4495-f774-cb23036d8eee"
      },
      "execution_count": null,
      "outputs": [
        {
          "output_type": "stream",
          "name": "stdout",
          "text": [
            "there are 5 columns in people dataframe and their names are ['_c0', 'person_id', 'name', 'sex', 'date of birth']: \n"
          ]
        }
      ]
    },
    {
      "cell_type": "code",
      "source": [
        "people_sub = people_df.select(\"name\",\"sex\",\"date of birth\")"
      ],
      "metadata": {
        "id": "CUnvpj3yI-0K"
      },
      "execution_count": null,
      "outputs": []
    },
    {
      "cell_type": "code",
      "source": [
        "people_sub.show(10)"
      ],
      "metadata": {
        "colab": {
          "base_uri": "https://localhost:8080/"
        },
        "id": "bPd3MJbzJTXl",
        "outputId": "e051cac6-d141-4841-b74e-fb223b3807cc"
      },
      "execution_count": null,
      "outputs": [
        {
          "output_type": "stream",
          "name": "stdout",
          "text": [
            "+----------------+------+-------------------+\n",
            "|            name|   sex|      date of birth|\n",
            "+----------------+------+-------------------+\n",
            "|  Penelope Lewis|female|1990-08-31 00:00:00|\n",
            "|   David Anthony|  male|1971-10-14 00:00:00|\n",
            "|       Ida Shipp|female|1962-05-24 00:00:00|\n",
            "|    Joanna Moore|female|2017-03-10 00:00:00|\n",
            "|  Lisandra Ortiz|female|2020-08-05 00:00:00|\n",
            "|   David Simmons|  male|1999-12-30 00:00:00|\n",
            "|   Edward Hudson|  male|1983-05-09 00:00:00|\n",
            "|    Albert Jones|  male|1990-09-13 00:00:00|\n",
            "|Leonard Cavender|  male|1958-08-08 00:00:00|\n",
            "|  Everett Vadala|  male|2005-05-24 00:00:00|\n",
            "+----------------+------+-------------------+\n",
            "only showing top 10 rows\n",
            "\n"
          ]
        }
      ]
    },
    {
      "cell_type": "code",
      "source": [
        "people_sub_nodup= people_sub.dropDuplicates()"
      ],
      "metadata": {
        "id": "D0z00ZTBJWHo"
      },
      "execution_count": null,
      "outputs": []
    },
    {
      "cell_type": "code",
      "source": [
        "print(\"there was {} rows before and now there are {} rows\".format(people_sub.count(), people_sub_nodup.count()))"
      ],
      "metadata": {
        "colab": {
          "base_uri": "https://localhost:8080/"
        },
        "id": "-JY2Rb4iJgEJ",
        "outputId": "772d3278-39b5-4d9f-b339-002ee6f97d7e"
      },
      "execution_count": null,
      "outputs": [
        {
          "output_type": "stream",
          "name": "stdout",
          "text": [
            "there was 100000 rows before and now there are 99998 rows\n"
          ]
        }
      ]
    },
    {
      "cell_type": "code",
      "source": [
        "people_df.createOrReplaceTempView('people')"
      ],
      "metadata": {
        "id": "9SqUu9TRJ3g7"
      },
      "execution_count": null,
      "outputs": []
    },
    {
      "cell_type": "code",
      "source": [
        "query = \"select name from people\""
      ],
      "metadata": {
        "id": "WDrBiNqoKDC5"
      },
      "execution_count": null,
      "outputs": []
    },
    {
      "cell_type": "code",
      "source": [
        "people_names = spark.sql(query)"
      ],
      "metadata": {
        "id": "D41Ic28IKr0W"
      },
      "execution_count": null,
      "outputs": []
    },
    {
      "cell_type": "code",
      "source": [
        "people_names.show(10)"
      ],
      "metadata": {
        "colab": {
          "base_uri": "https://localhost:8080/"
        },
        "id": "RbQVjHdyK7cj",
        "outputId": "1d6c1528-aa58-4d83-a016-62ca38071fc3"
      },
      "execution_count": null,
      "outputs": [
        {
          "output_type": "stream",
          "name": "stdout",
          "text": [
            "+----------------+\n",
            "|            name|\n",
            "+----------------+\n",
            "|  Penelope Lewis|\n",
            "|   David Anthony|\n",
            "|       Ida Shipp|\n",
            "|    Joanna Moore|\n",
            "|  Lisandra Ortiz|\n",
            "|   David Simmons|\n",
            "|   Edward Hudson|\n",
            "|    Albert Jones|\n",
            "|Leonard Cavender|\n",
            "|  Everett Vadala|\n",
            "+----------------+\n",
            "only showing top 10 rows\n",
            "\n"
          ]
        }
      ]
    },
    {
      "cell_type": "code",
      "source": [
        "female_df = spark.sql(\"select * from people where sex=='female' \")"
      ],
      "metadata": {
        "id": "jKICyZuBK_X4"
      },
      "execution_count": null,
      "outputs": []
    },
    {
      "cell_type": "code",
      "source": [
        "female_df.show(10)"
      ],
      "metadata": {
        "colab": {
          "base_uri": "https://localhost:8080/"
        },
        "id": "6sMoSGfjLUuG",
        "outputId": "faabcab4-bcd0-4839-94f4-c880d9ce2091"
      },
      "execution_count": null,
      "outputs": [
        {
          "output_type": "stream",
          "name": "stdout",
          "text": [
            "+---+---------+-----------------+------+-------------------+\n",
            "|_c0|person_id|             name|   sex|      date of birth|\n",
            "+---+---------+-----------------+------+-------------------+\n",
            "|  0|      100|   Penelope Lewis|female|1990-08-31 00:00:00|\n",
            "|  2|      102|        Ida Shipp|female|1962-05-24 00:00:00|\n",
            "|  3|      103|     Joanna Moore|female|2017-03-10 00:00:00|\n",
            "|  4|      104|   Lisandra Ortiz|female|2020-08-05 00:00:00|\n",
            "| 11|      111|Annabelle Rosseau|female|1989-07-13 00:00:00|\n",
            "| 12|      112|    Eulah Emanuel|female|1976-01-19 00:00:00|\n",
            "| 16|      116|   Carla Spickard|female|1985-06-13 00:00:00|\n",
            "| 17|      117|Florence Eberhart|female|2024-06-01 00:00:00|\n",
            "| 18|      118|     Tina Gaskins|female|1966-12-05 00:00:00|\n",
            "| 19|      119| Florence Mulhern|female|1959-05-31 00:00:00|\n",
            "+---+---------+-----------------+------+-------------------+\n",
            "only showing top 10 rows\n",
            "\n"
          ]
        }
      ]
    },
    {
      "cell_type": "code",
      "source": [
        "male_df = spark.sql(\"select * from people where sex=='male' \")"
      ],
      "metadata": {
        "id": "tOblEzrkLW0y"
      },
      "execution_count": null,
      "outputs": []
    },
    {
      "cell_type": "code",
      "source": [
        "male_df.show(10)"
      ],
      "metadata": {
        "colab": {
          "base_uri": "https://localhost:8080/"
        },
        "id": "DGiunjpPLkMu",
        "outputId": "98834f43-d5fa-45fe-b021-ec7ad1f2bb44"
      },
      "execution_count": null,
      "outputs": [
        {
          "output_type": "stream",
          "name": "stdout",
          "text": [
            "+---+---------+-----------------+----+-------------------+\n",
            "|_c0|person_id|             name| sex|      date of birth|\n",
            "+---+---------+-----------------+----+-------------------+\n",
            "|  1|      101|    David Anthony|male|1971-10-14 00:00:00|\n",
            "|  5|      105|    David Simmons|male|1999-12-30 00:00:00|\n",
            "|  6|      106|    Edward Hudson|male|1983-05-09 00:00:00|\n",
            "|  7|      107|     Albert Jones|male|1990-09-13 00:00:00|\n",
            "|  8|      108| Leonard Cavender|male|1958-08-08 00:00:00|\n",
            "|  9|      109|   Everett Vadala|male|2005-05-24 00:00:00|\n",
            "| 10|      110| Freddie Claridge|male|2002-05-07 00:00:00|\n",
            "| 13|      113|       Shaun Love|male|1970-05-26 00:00:00|\n",
            "| 14|      114|Alejandro Brennan|male|1980-12-22 00:00:00|\n",
            "| 15|      115|Robert Mcreynolds|male|1973-12-27 00:00:00|\n",
            "+---+---------+-----------------+----+-------------------+\n",
            "only showing top 10 rows\n",
            "\n"
          ]
        }
      ]
    },
    {
      "cell_type": "code",
      "source": [
        "print(\"there are {} females and {} males\".format(female_df.count(),male_df.count() ))"
      ],
      "metadata": {
        "colab": {
          "base_uri": "https://localhost:8080/"
        },
        "id": "BRciSJ-ILmSi",
        "outputId": "9146df81-3381-4b6a-e345-c9e37d37e4ca"
      },
      "execution_count": null,
      "outputs": [
        {
          "output_type": "stream",
          "name": "stdout",
          "text": [
            "there are 49014 females and 49066 males\n"
          ]
        }
      ]
    },
    {
      "cell_type": "code",
      "source": [
        "print(names_df.columns)"
      ],
      "metadata": {
        "colab": {
          "base_uri": "https://localhost:8080/"
        },
        "id": "oNxE0FvSL5Q_",
        "outputId": "1d040f93-ecc6-40ac-d207-5284f4364827"
      },
      "execution_count": null,
      "outputs": [
        {
          "output_type": "stream",
          "name": "stdout",
          "text": [
            "['Name', 'Age']\n"
          ]
        }
      ]
    },
    {
      "cell_type": "code",
      "source": [
        "names_pd= names_df.toPandas()"
      ],
      "metadata": {
        "id": "tHaT-1DlM9B2"
      },
      "execution_count": null,
      "outputs": []
    },
    {
      "cell_type": "code",
      "source": [
        "import matplotlib.pyplot as plt"
      ],
      "metadata": {
        "id": "kDhRfLDcOPkz"
      },
      "execution_count": null,
      "outputs": []
    },
    {
      "cell_type": "code",
      "source": [
        "names_pd.plot(kind='barh', x='Name', y='Age', colormap='winter_r').plt.show()"
      ],
      "metadata": {
        "colab": {
          "base_uri": "https://localhost:8080/",
          "height": 550
        },
        "id": "uslXQ-zRNSAO",
        "outputId": "e89cd5c6-6a4d-4240-e857-bd816e03016b"
      },
      "execution_count": null,
      "outputs": [
        {
          "output_type": "error",
          "ename": "AttributeError",
          "evalue": "'Axes' object has no attribute 'plt'",
          "traceback": [
            "\u001b[0;31m---------------------------------------------------------------------------\u001b[0m",
            "\u001b[0;31mAttributeError\u001b[0m                            Traceback (most recent call last)",
            "\u001b[0;32m<ipython-input-100-e8b3a31c0850>\u001b[0m in \u001b[0;36m<cell line: 1>\u001b[0;34m()\u001b[0m\n\u001b[0;32m----> 1\u001b[0;31m \u001b[0mnames_pd\u001b[0m\u001b[0;34m.\u001b[0m\u001b[0mplot\u001b[0m\u001b[0;34m(\u001b[0m\u001b[0mkind\u001b[0m\u001b[0;34m=\u001b[0m\u001b[0;34m'barh'\u001b[0m\u001b[0;34m,\u001b[0m \u001b[0mx\u001b[0m\u001b[0;34m=\u001b[0m\u001b[0;34m'Name'\u001b[0m\u001b[0;34m,\u001b[0m \u001b[0my\u001b[0m\u001b[0;34m=\u001b[0m\u001b[0;34m'Age'\u001b[0m\u001b[0;34m,\u001b[0m \u001b[0mcolormap\u001b[0m\u001b[0;34m=\u001b[0m\u001b[0;34m'winter_r'\u001b[0m\u001b[0;34m)\u001b[0m\u001b[0;34m.\u001b[0m\u001b[0mplt\u001b[0m\u001b[0;34m.\u001b[0m\u001b[0mshow\u001b[0m\u001b[0;34m(\u001b[0m\u001b[0;34m)\u001b[0m\u001b[0;34m\u001b[0m\u001b[0;34m\u001b[0m\u001b[0m\n\u001b[0m",
            "\u001b[0;31mAttributeError\u001b[0m: 'Axes' object has no attribute 'plt'"
          ]
        },
        {
          "output_type": "display_data",
          "data": {
            "text/plain": [
              "<Figure size 640x480 with 1 Axes>"
            ],
            "image/png": "[encoded data removed]"
          },
          "metadata": {}
        }
      ]
    },
    {
      "cell_type": "code",
      "source": [
        "fifa_df = spark.read.csv(\"/content/Fifa2018_dataset.csv\", header = True, inferSchema= True)"
      ],
      "metadata": {
        "id": "WpL51G8NOm9l"
      },
      "execution_count": null,
      "outputs": []
    },
    {
      "cell_type": "code",
      "source": [
        "fifa_df.printSchema()"
      ],
      "metadata": {
        "colab": {
          "base_uri": "https://localhost:8080/"
        },
        "id": "-tG3fxW-Nz2S",
        "outputId": "477dde6a-2a7a-4355-b758-9df86dc6e2a3"
      },
      "execution_count": null,
      "outputs": [
        {
          "output_type": "stream",
          "name": "stdout",
          "text": [
            "root\n",
            " |-- _c0: integer (nullable = true)\n",
            " |-- Name: string (nullable = true)\n",
            " |-- Age: integer (nullable = true)\n",
            " |-- Photo: string (nullable = true)\n",
            " |-- Nationality: string (nullable = true)\n",
            " |-- Flag: string (nullable = true)\n",
            " |-- Overall: integer (nullable = true)\n",
            " |-- Potential: integer (nullable = true)\n",
            " |-- Club: string (nullable = true)\n",
            " |-- Club Logo: string (nullable = true)\n",
            " |-- Value: string (nullable = true)\n",
            " |-- Wage: string (nullable = true)\n",
            " |-- Special: integer (nullable = true)\n",
            " |-- Acceleration: string (nullable = true)\n",
            " |-- Aggression: string (nullable = true)\n",
            " |-- Agility: string (nullable = true)\n",
            " |-- Balance: string (nullable = true)\n",
            " |-- Ball control: string (nullable = true)\n",
            " |-- Composure: string (nullable = true)\n",
            " |-- Crossing: string (nullable = true)\n",
            " |-- Curve: string (nullable = true)\n",
            " |-- Dribbling: string (nullable = true)\n",
            " |-- Finishing: string (nullable = true)\n",
            " |-- Free kick accuracy: string (nullable = true)\n",
            " |-- GK diving: string (nullable = true)\n",
            " |-- GK handling: string (nullable = true)\n",
            " |-- GK kicking: string (nullable = true)\n",
            " |-- GK positioning: string (nullable = true)\n",
            " |-- GK reflexes: string (nullable = true)\n",
            " |-- Heading accuracy: string (nullable = true)\n",
            " |-- Interceptions: string (nullable = true)\n",
            " |-- Jumping: string (nullable = true)\n",
            " |-- Long passing: string (nullable = true)\n",
            " |-- Long shots: string (nullable = true)\n",
            " |-- Marking: string (nullable = true)\n",
            " |-- Penalties: string (nullable = true)\n",
            " |-- Positioning: string (nullable = true)\n",
            " |-- Reactions: string (nullable = true)\n",
            " |-- Short passing: string (nullable = true)\n",
            " |-- Shot power: string (nullable = true)\n",
            " |-- Sliding tackle: string (nullable = true)\n",
            " |-- Sprint speed: string (nullable = true)\n",
            " |-- Stamina: string (nullable = true)\n",
            " |-- Standing tackle: string (nullable = true)\n",
            " |-- Strength: string (nullable = true)\n",
            " |-- Vision: string (nullable = true)\n",
            " |-- Volleys: string (nullable = true)\n",
            " |-- CAM: double (nullable = true)\n",
            " |-- CB: double (nullable = true)\n",
            " |-- CDM: double (nullable = true)\n",
            " |-- CF: double (nullable = true)\n",
            " |-- CM: double (nullable = true)\n",
            " |-- ID: integer (nullable = true)\n",
            " |-- LAM: double (nullable = true)\n",
            " |-- LB: double (nullable = true)\n",
            " |-- LCB: double (nullable = true)\n",
            " |-- LCM: double (nullable = true)\n",
            " |-- LDM: double (nullable = true)\n",
            " |-- LF: double (nullable = true)\n",
            " |-- LM: double (nullable = true)\n",
            " |-- LS: double (nullable = true)\n",
            " |-- LW: double (nullable = true)\n",
            " |-- LWB: double (nullable = true)\n",
            " |-- Preferred Positions: string (nullable = true)\n",
            " |-- RAM: double (nullable = true)\n",
            " |-- RB: double (nullable = true)\n",
            " |-- RCB: double (nullable = true)\n",
            " |-- RCM: double (nullable = true)\n",
            " |-- RDM: double (nullable = true)\n",
            " |-- RF: double (nullable = true)\n",
            " |-- RM: double (nullable = true)\n",
            " |-- RS: double (nullable = true)\n",
            " |-- RW: double (nullable = true)\n",
            " |-- RWB: double (nullable = true)\n",
            " |-- ST: double (nullable = true)\n",
            "\n"
          ]
        }
      ]
    },
    {
      "cell_type": "code",
      "source": [
        "fifa_df.show()"
      ],
      "metadata": {
        "colab": {
          "base_uri": "https://localhost:8080/"
        },
        "id": "WfISdmYVPBo3",
        "outputId": "469083c8-f5aa-4e03-ec9e-b08c20cd358c"
      },
      "execution_count": null,
      "outputs": [
        {
          "output_type": "stream",
          "name": "stdout",
          "text": [
            "+---+-----------------+---+--------------------+-----------+--------------------+-------+---------+-------------------+--------------------+------+-----+-------+------------+----------+-------+-------+------------+---------+--------+-----+---------+---------+------------------+---------+-----------+----------+--------------+-----------+----------------+-------------+-------+------------+----------+-------+---------+-----------+---------+-------------+----------+--------------+------------+-------+---------------+--------+------+-------+----+----+----+----+----+------+----+----+----+----+----+----+----+----+----+----+-------------------+----+----+----+----+----+----+----+----+----+----+----+\n",
            "|_c0|             Name|Age|               Photo|Nationality|                Flag|Overall|Potential|               Club|           Club Logo| Value| Wage|Special|Acceleration|Aggression|Agility|Balance|Ball control|Composure|Crossing|Curve|Dribbling|Finishing|Free kick accuracy|GK diving|GK handling|GK kicking|GK positioning|GK reflexes|Heading accuracy|Interceptions|Jumping|Long passing|Long shots|Marking|Penalties|Positioning|Reactions|Short passing|Shot power|Sliding tackle|Sprint speed|Stamina|Standing tackle|Strength|Vision|Volleys| CAM|  CB| CDM|  CF|  CM|    ID| LAM|  LB| LCB| LCM| LDM|  LF|  LM|  LS|  LW| LWB|Preferred Positions| RAM|  RB| RCB| RCM| RDM|  RF|  RM|  RS|  RW| RWB|  ST|\n",
            "+---+-----------------+---+--------------------+-----------+--------------------+-------+---------+-------------------+--------------------+------+-----+-------+------------+----------+-------+-------+------------+---------+--------+-----+---------+---------+------------------+---------+-----------+----------+--------------+-----------+----------------+-------------+-------+------------+----------+-------+---------+-----------+---------+-------------+----------+--------------+------------+-------+---------------+--------+------+-------+----+----+----+----+----+------+----+----+----+----+----+----+----+----+----+----+-------------------+----+----+----+----+----+----+----+----+----+----+----+\n",
            "|  0|Cristiano Ronaldo| 32|https://cdn.sofif...|   Portugal|https://cdn.sofif...|     94|       94|     Real Madrid CF|https://cdn.sofif...|€95.5M|€565K|   2228|          89|        63|     89|     63|          93|       95|      85|   81|       91|       94|                76|        7|         11|        15|            14|         11|              88|           29|     95|          77|        92|     22|       85|         95|       96|           83|        94|            23|          91|     92|             31|      80|    85|     88|89.0|53.0|62.0|91.0|82.0| 20801|89.0|61.0|53.0|82.0|62.0|91.0|89.0|92.0|91.0|66.0|             ST LW |89.0|61.0|53.0|82.0|62.0|91.0|89.0|92.0|91.0|66.0|92.0|\n",
            "|  1|         L. Messi| 30|https://cdn.sofif...|  Argentina|https://cdn.sofif...|     93|       93|       FC Barcelona|https://cdn.sofif...| €105M|€565K|   2154|          92|        48|     90|     95|          95|       96|      77|   89|       97|       95|                90|        6|         11|        15|            14|          8|              71|           22|     68|          87|        88|     13|       74|         93|       95|           88|        85|            26|          87|     73|             28|      59|    90|     85|92.0|45.0|59.0|92.0|84.0|158023|92.0|57.0|45.0|84.0|59.0|92.0|90.0|88.0|91.0|62.0|                RW |92.0|57.0|45.0|84.0|59.0|92.0|90.0|88.0|91.0|62.0|88.0|\n",
            "|  2|           Neymar| 25|https://cdn.sofif...|     Brazil|https://cdn.sofif...|     92|       94|Paris Saint-Germain|https://cdn.sofif...| €123M|€280K|   2100|          94|        56|     96|     82|          95|       92|      75|   81|       96|       89|                84|        9|          9|        15|            15|         11|              62|           36|     61|          75|        77|     21|       81|         90|       88|           81|        80|            33|          90|     78|             24|      53|    80|     83|88.0|46.0|59.0|88.0|79.0|190871|88.0|59.0|46.0|79.0|59.0|88.0|87.0|84.0|89.0|64.0|                LW |88.0|59.0|46.0|79.0|59.0|88.0|87.0|84.0|89.0|64.0|84.0|\n",
            "|  3|        L. Suárez| 30|https://cdn.sofif...|    Uruguay|https://cdn.sofif...|     92|       92|       FC Barcelona|https://cdn.sofif...|  €97M|€510K|   2291|          88|        78|     86|     60|          91|       83|      77|   86|       86|       94|                84|       27|         25|        31|            33|         37|              77|           41|     69|          64|        86|     30|       85|         92|       93|           83|        87|            38|          77|     89|             45|      80|    84|     88|87.0|58.0|65.0|88.0|80.0|176580|87.0|64.0|58.0|80.0|65.0|88.0|85.0|88.0|87.0|68.0|                ST |87.0|64.0|58.0|80.0|65.0|88.0|85.0|88.0|87.0|68.0|88.0|\n",
            "|  4|         M. Neuer| 31|https://cdn.sofif...|    Germany|https://cdn.sofif...|     92|       92|   FC Bayern Munich|https://cdn.sofif...|  €61M|€230K|   1493|          58|        29|     52|     35|          48|       70|      15|   14|       30|       13|                11|       91|         90|        95|            91|         89|              25|           30|     78|          59|        16|     10|       47|         12|       85|           55|        25|            11|          61|     44|             10|      83|    70|     11|NULL|NULL|NULL|NULL|NULL|167495|NULL|NULL|NULL|NULL|NULL|NULL|NULL|NULL|NULL|NULL|                GK |NULL|NULL|NULL|NULL|NULL|NULL|NULL|NULL|NULL|NULL|NULL|\n",
            "|  5|   R. Lewandowski| 28|https://cdn.sofif...|     Poland|https://cdn.sofif...|     91|       91|   FC Bayern Munich|https://cdn.sofif...|  €92M|€355K|   2143|          79|        80|     78|     80|          89|       87|      62|   77|       85|       91|                84|       15|          6|        12|             8|         10|              85|           39|     84|          65|        83|     25|       81|         91|       91|           83|        88|            19|          83|     79|             42|      84|    78|     87|84.0|57.0|62.0|87.0|78.0|188545|84.0|58.0|57.0|78.0|62.0|87.0|82.0|88.0|84.0|61.0|                ST |84.0|58.0|57.0|78.0|62.0|87.0|82.0|88.0|84.0|61.0|88.0|\n",
            "|  6|           De Gea| 26|https://cdn.sofif...|      Spain|https://cdn.sofif...|     90|       92|  Manchester United|https://cdn.sofif...|€64.5M|€215K|   1458|          57|        38|     60|     43|          42|       64|      17|   21|       18|       13|                19|       90|         85|        87|            86|         90|              21|           30|     67|          51|        12|     13|       40|         12|       88|           50|        31|            13|          58|     40|             21|      64|    68|     13|NULL|NULL|NULL|NULL|NULL|193080|NULL|NULL|NULL|NULL|NULL|NULL|NULL|NULL|NULL|NULL|                GK |NULL|NULL|NULL|NULL|NULL|NULL|NULL|NULL|NULL|NULL|NULL|\n",
            "|  7|        E. Hazard| 26|https://cdn.sofif...|    Belgium|https://cdn.sofif...|     90|       91|            Chelsea|https://cdn.sofif...|€90.5M|€295K|   2096|          93|        54|     93|     91|          92|       87|      80|   82|       93|       83|                79|       11|         12|         6|             8|          8|              57|           41|     59|          81|        82|     25|       86|         85|       85|           86|        79|            22|          87|     79|             27|      65|    86|     79|88.0|47.0|61.0|87.0|81.0|183277|88.0|59.0|47.0|81.0|61.0|87.0|87.0|82.0|88.0|64.0|                LW |88.0|59.0|47.0|81.0|61.0|87.0|87.0|82.0|88.0|64.0|82.0|\n",
            "|  8|         T. Kroos| 27|https://cdn.sofif...|    Germany|https://cdn.sofif...|     90|       90|     Real Madrid CF|https://cdn.sofif...|  €79M|€340K|   2165|          60|        60|     71|     69|          89|       85|      85|   85|       79|       76|                84|       10|         11|        13|             7|         10|              54|           85|     32|          93|        90|     63|       73|         79|       86|           90|        87|            69|          52|     77|             82|      74|    88|     82|83.0|72.0|82.0|81.0|87.0|182521|83.0|76.0|72.0|87.0|82.0|81.0|81.0|77.0|80.0|78.0|            CDM CM |83.0|76.0|72.0|87.0|82.0|81.0|81.0|77.0|80.0|78.0|77.0|\n",
            "|  9|       G. Higuaín| 29|https://cdn.sofif...|  Argentina|https://cdn.sofif...|     90|       90|           Juventus|https://cdn.sofif...|  €77M|€275K|   1961|          78|        50|     75|     69|          85|       86|      68|   74|       84|       91|                62|        5|         12|         7|             5|         10|              86|           20|     79|          59|        82|     12|       70|         92|       88|           75|        88|            18|          80|     72|             22|      85|    70|     88|81.0|46.0|52.0|84.0|71.0|167664|81.0|51.0|46.0|71.0|52.0|84.0|79.0|87.0|82.0|55.0|                ST |81.0|51.0|46.0|71.0|52.0|84.0|79.0|87.0|82.0|55.0|87.0|\n",
            "| 10|     Sergio Ramos| 31|https://cdn.sofif...|      Spain|https://cdn.sofif...|     90|       90|     Real Madrid CF|https://cdn.sofif...|  €52M|€310K|   2153|          75|        84|     79|     60|          84|       80|      66|   73|       61|       60|                67|       11|          8|         9|             7|         11|              91|           88|     93|          72|        55|     86|       68|         52|       85|           78|        79|            91|          77|     84|             89|      81|    63|     66|70.0|87.0|83.0|70.0|74.0|155862|70.0|84.0|87.0|74.0|83.0|70.0|71.0|72.0|69.0|81.0|                CB |70.0|84.0|87.0|74.0|83.0|70.0|71.0|72.0|69.0|81.0|72.0|\n",
            "| 11|     K. De Bruyne| 26|https://cdn.sofif...|    Belgium|https://cdn.sofif...|     89|       92|    Manchester City|https://cdn.sofif...|  €83M|€285K|   2162|          76|        68|     80|     75|          87|       84|      90|   83|       85|       83|                83|       15|         13|         5|            10|         13|              53|           56|     65|          84|        86|     30|       77|         84|       88|           90|        85|            40|          75|     87|             51|      73|    90|     82|86.0|57.0|70.0|85.0|84.0|192985|86.0|66.0|57.0|84.0|70.0|85.0|85.0|81.0|85.0|71.0|         RM CM CAM |86.0|66.0|57.0|84.0|70.0|85.0|85.0|81.0|85.0|71.0|81.0|\n",
            "| 12|      T. Courtois| 25|https://cdn.sofif...|    Belgium|https://cdn.sofif...|     89|       92|            Chelsea|https://cdn.sofif...|  €59M|€190K|   1282|          46|        23|     61|     45|          23|       52|      14|   19|       13|       14|                11|       85|         91|        69|            86|         88|              13|           15|     68|          31|        17|     11|       27|         13|       81|           32|        36|            16|          52|     38|             18|      70|    44|     12|NULL|NULL|NULL|NULL|NULL|192119|NULL|NULL|NULL|NULL|NULL|NULL|NULL|NULL|NULL|NULL|                GK |NULL|NULL|NULL|NULL|NULL|NULL|NULL|NULL|NULL|NULL|NULL|\n",
            "| 13|       A. Sánchez| 28|https://cdn.sofif...|      Chile|https://cdn.sofif...|     89|       89|            Arsenal|https://cdn.sofif...|€67.5M|€265K|   2181|          88|        80|     90|     87|          87|       86|      80|   78|       90|       85|                78|       10|         10|        15|            12|         13|              70|           42|     85|          73|        82|     30|       77|         86|       87|           81|        84|            35|          84|     85|             39|      72|    83|     83|85.0|56.0|64.0|85.0|79.0|184941|85.0|62.0|56.0|79.0|64.0|85.0|85.0|83.0|86.0|66.0|       RM LW ST LM |85.0|62.0|56.0|79.0|64.0|85.0|85.0|83.0|86.0|66.0|83.0|\n",
            "| 14|        L. Modrić| 31|https://cdn.sofif...|    Croatia|https://cdn.sofif...|     89|       89|     Real Madrid CF|https://cdn.sofif...|  €57M|€340K|   2228|          75|        62|     93|     94|          92|       84|      78|   79|       86|       71|                77|       13|          9|         7|            14|          9|              55|           76|     67|          83|        82|     66|       80|         79|       88|           92|        73|            73|          71|     82|             80|      58|    90|     74|86.0|72.0|80.0|83.0|86.0|177003|86.0|78.0|72.0|86.0|80.0|83.0|84.0|76.0|83.0|80.0|            CDM CM |86.0|78.0|72.0|86.0|80.0|83.0|84.0|76.0|83.0|80.0|76.0|\n",
            "| 15|          G. Bale| 27|https://cdn.sofif...|      Wales|https://cdn.sofif...|     89|       89|     Real Madrid CF|https://cdn.sofif...|€69.5M|€370K|   2263|          93|        65|     77|     65|          87|       85|      87|   86|       89|       87|                85|       15|         15|        11|             5|          6|              86|           59|     85|          80|        90|     51|       76|         86|       87|           86|        91|            52|          95|     76|             55|      80|    79|     76|86.0|67.0|71.0|87.0|81.0|173731|86.0|72.0|67.0|81.0|71.0|87.0|87.0|87.0|87.0|74.0|                RW |86.0|72.0|67.0|81.0|71.0|87.0|87.0|87.0|87.0|74.0|87.0|\n",
            "| 16|        S. Agüero| 29|https://cdn.sofif...|  Argentina|https://cdn.sofif...|     89|       89|    Manchester City|https://cdn.sofif...|€66.5M|€325K|   2074|          90|        63|     86|     91|          89|       90|      70|   82|       89|       90|                72|       13|         15|         6|            11|         14|              68|           24|     80|          63|        83|     13|       83|         91|       89|           79|        88|            12|          84|     74|             20|      74|    83|     85|85.0|44.0|54.0|87.0|75.0|153079|85.0|52.0|44.0|75.0|54.0|87.0|84.0|86.0|86.0|57.0|                ST |85.0|52.0|44.0|75.0|54.0|87.0|84.0|86.0|86.0|57.0|86.0|\n",
            "| 17|     G. Chiellini| 32|https://cdn.sofif...|      Italy|https://cdn.sofif...|     89|       89|           Juventus|https://cdn.sofif...|  €38M|€225K|   1867|          68|        92|     59|     64|          57|       82|      58|   60|       58|       33|                31|        3|          3|         2|             4|          3|              84|           88|     89|          59|        49|     92|       50|         28|       82|           59|        78|            90|          78|     68|             92|      91|    50|     45|55.0|86.0|76.0|55.0|60.0|138956|55.0|78.0|86.0|60.0|76.0|55.0|58.0|59.0|56.0|75.0|                CB |55.0|78.0|86.0|60.0|76.0|55.0|58.0|59.0|56.0|75.0|59.0|\n",
            "| 18|        G. Buffon| 39|https://cdn.sofif...|      Italy|https://cdn.sofif...|     89|       89|           Juventus|https://cdn.sofif...| €4.5M|€110K|   1335|          49|        38|     55|     49|          28|       70|      13|   20|       26|       15|                13|       89|         88|        74|            90|         84|              13|           28|     75|          35|        13|     10|       22|         12|       80|           37|        39|            11|          43|     39|             11|      69|    50|     17|NULL|NULL|NULL|NULL|NULL|  1179|NULL|NULL|NULL|NULL|NULL|NULL|NULL|NULL|NULL|NULL|                GK |NULL|NULL|NULL|NULL|NULL|NULL|NULL|NULL|NULL|NULL|NULL|\n",
            "| 19|        P. Dybala| 23|https://cdn.sofif...|  Argentina|https://cdn.sofif...|     88|       93|           Juventus|https://cdn.sofif...|  €79M|€215K|   2063|          88|        48|     91|     85|          93|       84|      80|   88|       92|       85|                84|        5|          4|         4|             5|          8|              68|           24|     75|          71|        88|     14|       86|         84|       84|           83|        82|            20|          84|     83|             20|      65|    84|     88|86.0|43.0|55.0|86.0|78.0|211110|86.0|55.0|43.0|78.0|55.0|86.0|86.0|83.0|87.0|60.0|            ST CAM |86.0|55.0|43.0|78.0|55.0|86.0|86.0|83.0|87.0|60.0|83.0|\n",
            "+---+-----------------+---+--------------------+-----------+--------------------+-------+---------+-------------------+--------------------+------+-----+-------+------------+----------+-------+-------+------------+---------+--------+-----+---------+---------+------------------+---------+-----------+----------+--------------+-----------+----------------+-------------+-------+------------+----------+-------+---------+-----------+---------+-------------+----------+--------------+------------+-------+---------------+--------+------+-------+----+----+----+----+----+------+----+----+----+----+----+----+----+----+----+----+-------------------+----+----+----+----+----+----+----+----+----+----+----+\n",
            "only showing top 20 rows\n",
            "\n"
          ]
        }
      ]
    },
    {
      "cell_type": "code",
      "source": [
        "print(\"there are {} rows in fifa dataframe\".format(fifa_df.count()))"
      ],
      "metadata": {
        "colab": {
          "base_uri": "https://localhost:8080/"
        },
        "id": "ijPkYGXbPJaA",
        "outputId": "fcde5a67-218b-4a5b-dc31-889d997a4890"
      },
      "execution_count": null,
      "outputs": [
        {
          "output_type": "stream",
          "name": "stdout",
          "text": [
            "there are 17981 rows in fifa dataframe\n"
          ]
        }
      ]
    },
    {
      "cell_type": "code",
      "source": [
        "fifa_df.createOrReplaceTempView('fifa_table')"
      ],
      "metadata": {
        "id": "MsKjHHQLPWg4"
      },
      "execution_count": null,
      "outputs": []
    },
    {
      "cell_type": "code",
      "source": [
        "fifa_germany_age = spark.sql(\"select age from fifa_table where Nationality=='Germany'\")"
      ],
      "metadata": {
        "id": "HJDkmbd0PjT0"
      },
      "execution_count": null,
      "outputs": []
    },
    {
      "cell_type": "code",
      "source": [
        "fifa_germany_age.describe().show()"
      ],
      "metadata": {
        "colab": {
          "base_uri": "https://localhost:8080/"
        },
        "id": "986gK_8zP7ev",
        "outputId": "766e5a06-b211-437b-9e36-9f383414efc0"
      },
      "execution_count": null,
      "outputs": [
        {
          "output_type": "stream",
          "name": "stdout",
          "text": [
            "+-------+-----------------+\n",
            "|summary|              age|\n",
            "+-------+-----------------+\n",
            "|  count|             1140|\n",
            "|   mean|24.20263157894737|\n",
            "| stddev|4.197096712293757|\n",
            "|    min|               16|\n",
            "|    max|               36|\n",
            "+-------+-----------------+\n",
            "\n"
          ]
        }
      ]
    },
    {
      "cell_type": "code",
      "source": [],
      "metadata": {
        "id": "5wCdZlVRQE59"
      },
      "execution_count": null,
      "outputs": []
    },
    {
      "cell_type": "code",
      "source": [],
      "metadata": {
        "id": "e2TdGRNfP9md"
      },
      "execution_count": null,
      "outputs": []
    }
  ]
}